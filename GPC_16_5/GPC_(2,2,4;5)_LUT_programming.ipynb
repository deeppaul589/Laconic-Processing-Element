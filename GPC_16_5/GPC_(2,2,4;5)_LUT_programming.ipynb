{
 "cells": [
  {
   "cell_type": "code",
   "execution_count": 28,
   "id": "9c1bf3e5",
   "metadata": {},
   "outputs": [],
   "source": [
    "import numpy as np\n",
    "from bitstring import BitArray\n",
    "\n",
    "def carry(a, b):\n",
    "    return(a&b)\n",
    "\n",
    "def sum_(a, b):\n",
    "    return (a^b)"
   ]
  },
  {
   "cell_type": "code",
   "execution_count": 29,
   "id": "922d7af1",
   "metadata": {},
   "outputs": [
    {
     "name": "stdout",
     "output_type": "stream",
     "text": [
      "[1, 1, 1, 1, 0, 0, 0, 0, 0, 0, 0, 0, 1, 1, 1, 1, 0, 0, 0, 0, 1, 1, 1, 1, 1, 1, 1, 1, 0, 0, 0, 0, 1, 1, 1, 1, 1, 1, 1, 1, 1, 1, 1, 1, 1, 1, 1, 1, 0, 0, 0, 0, 0, 0, 0, 0, 0, 0, 0, 0, 0, 0, 0, 0]\n",
      "17298062221514833920\n"
     ]
    },
    {
     "data": {
      "text/plain": [
       "'0xf00f0ff0ffff0000'"
      ]
     },
     "execution_count": 29,
     "metadata": {},
     "output_type": "execute_result"
    }
   ],
   "source": [
    "# Lut 0\n",
    "\n",
    "o6 = []\n",
    "o5 = []\n",
    "\n",
    "\n",
    "for i in range(31,-1, -1):\n",
    "    \n",
    "    #print(i)\n",
    "    \n",
    "    b0 = i & 0x1\n",
    "    b1 = i>>1 & 0x1\n",
    "    b2 = i>>2 & 0x1\n",
    "    b3 = i>>3 & 0x1\n",
    "    b4 = i>>4 & 0x1\n",
    "    b5 = i>>5 & 0x1\n",
    "    \n",
    "    o6_temp = sum_(sum_(b4, b3), b2)\n",
    "    o5_temp = b4\n",
    "    \n",
    "    o6.append(o6_temp)\n",
    "    o5.append(o5_temp)\n",
    "    \n",
    "#print(o6)\n",
    "#print(o5)\n",
    "\n",
    "l = o6 + o5\n",
    "\n",
    "print(l)\n",
    "\n",
    "b = BitArray(l)\n",
    "x = b.uint\n",
    "print(x)\n",
    "hex(x)"
   ]
  },
  {
   "cell_type": "code",
   "execution_count": 27,
   "id": "ef81f0c9",
   "metadata": {},
   "outputs": [
    {
     "name": "stdout",
     "output_type": "stream",
     "text": [
      "[1, 1, 0, 0, 0, 0, 0, 0, 0, 0, 1, 1, 1, 1, 1, 1, 0, 0, 1, 1, 1, 1, 1, 1, 1, 1, 0, 0, 0, 0, 0, 0, 0, 0, 0, 0, 0, 0, 0, 0, 1, 1, 1, 1, 1, 1, 1, 1, 1, 1, 1, 1, 1, 1, 1, 1, 0, 0, 0, 0, 0, 0, 0, 0]\n",
      "13852861072697982720\n"
     ]
    },
    {
     "data": {
      "text/plain": [
       "'0xc03f3fc000ffff00'"
      ]
     },
     "execution_count": 27,
     "metadata": {},
     "output_type": "execute_result"
    }
   ],
   "source": [
    "# Lut 1 & 2\n",
    "\n",
    "o6 = []\n",
    "o5 = []\n",
    "\n",
    "\n",
    "for i in range(31,-1, -1):\n",
    "    \n",
    "    #print(i)\n",
    "    \n",
    "    b0 = i & 0x1\n",
    "    b1 = i>>1 & 0x1\n",
    "    b2 = i>>2 & 0x1\n",
    "    b3 = i>>3 & 0x1\n",
    "    b4 = i>>4 & 0x1\n",
    "    b5 = i>>5 & 0x1\n",
    "    \n",
    "    o6_temp = sum_(sum_(b4, b3), carry(b2, b1))\n",
    "    o5_temp = sum_(b4, b3)\n",
    "    \n",
    "    o6.append(o6_temp)\n",
    "    o5.append(o5_temp)\n",
    "    \n",
    "#print(o6)\n",
    "#print(o5)\n",
    "\n",
    "l = o6 + o5\n",
    "\n",
    "print(l)\n",
    "\n",
    "b = BitArray(l)\n",
    "x = b.uint\n",
    "print(x)\n",
    "hex(x)"
   ]
  },
  {
   "cell_type": "code",
   "execution_count": 25,
   "id": "68fb9170",
   "metadata": {},
   "outputs": [
    {
     "name": "stdout",
     "output_type": "stream",
     "text": [
      "[1, 1, 1, 1, 1, 1, 1, 1, 0, 0, 0, 0, 0, 0, 0, 0, 0, 0, 0, 0, 0, 0, 0, 0, 0, 0, 0, 0, 0, 0, 0, 0, 0, 0, 0, 0, 0, 0, 0, 0, 0, 0, 0, 0, 0, 0, 0, 0, 0, 0, 0, 0, 0, 0, 0, 0, 0, 0, 0, 0, 0, 0, 0, 0]\n",
      "18374686479671623680\n"
     ]
    },
    {
     "data": {
      "text/plain": [
       "'0xff00000000000000'"
      ]
     },
     "execution_count": 25,
     "metadata": {},
     "output_type": "execute_result"
    }
   ],
   "source": [
    "# Lut 3\n",
    "\n",
    "o6 = []\n",
    "o5 = []\n",
    "\n",
    "\n",
    "for i in range(31,-1, -1):\n",
    "    \n",
    "    #print(i)\n",
    "    \n",
    "    b0 = i & 0x1\n",
    "    b1 = (i>>1) & 0x1\n",
    "    b2 = (i>>2) & 0x1\n",
    "    b3 = (i>>3) & 0x1\n",
    "    b4 = (i>>4) & 0x1\n",
    "    b5 = (i>>5) & 0x1\n",
    "    \n",
    "    o6_temp = sum_(0, carry(b4, b3))\n",
    "    o5_temp = 0\n",
    "    \n",
    "    o6.append(o6_temp)\n",
    "    o5.append(o5_temp)\n",
    "    \n",
    "#print(o6)\n",
    "#print(o5)\n",
    "\n",
    "l = o6 + o5\n",
    "\n",
    "print(l)\n",
    "\n",
    "b = BitArray(l)\n",
    "x = b.uint\n",
    "print(x)\n",
    "hex(x)"
   ]
  }
 ],
 "metadata": {
  "kernelspec": {
   "display_name": "Python 3",
   "language": "python",
   "name": "python3"
  },
  "language_info": {
   "codemirror_mode": {
    "name": "ipython",
    "version": 3
   },
   "file_extension": ".py",
   "mimetype": "text/x-python",
   "name": "python",
   "nbconvert_exporter": "python",
   "pygments_lexer": "ipython3",
   "version": "3.7.9"
  }
 },
 "nbformat": 4,
 "nbformat_minor": 5
}
